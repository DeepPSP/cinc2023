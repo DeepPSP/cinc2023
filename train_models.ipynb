{
 "cells": [
  {
   "cell_type": "code",
   "execution_count": null,
   "id": "2674ced4",
   "metadata": {},
   "outputs": [],
   "source": [
    "import pandas as pd\n",
    "\n",
    "# ^^^ pyforest auto-imports - don't write above this line\n",
    "sys.path.insert(0, \"/home/wenh06/Jupyter/wenhao/workspace/torch_ecg/\")\n",
    "sys.path.insert(0, \"/home/wenh06/Jupyter/wenhao/workspace/bib_lookup/\")\n",
    "\n",
    "from collections import Counter\n",
    "import json\n",
    "from copy import deepcopy\n",
    "\n",
    "import wfdb\n",
    "from tqdm.auto import tqdm\n",
    "\n",
    "from torch_ecg.utils import list_sum\n",
    "from scipy.io import loadmat\n",
    "from torch_ecg.components.outputs import (\n",
    "    ClassificationOutput,\n",
    ")\n",
    "from torch_ecg.utils.misc import dict_to_str\n",
    "from torch_ecg.cfg import CFG, DEFAULTS\n",
    "\n",
    "from utils.scoring_metrics import compute_challenge_metrics, compute_challenge_score\n",
    "from cfg import TrainCfg, ModelCfg, BaseCfg\n",
    "from data_reader import CINC2023Reader\n",
    "from dataset import CinC2023Dataset\n",
    "from outputs import CINC2023Outputs, cpc2outcome_map\n",
    "from models import CRNN_CINC2023\n",
    "from trainer import CINC2023Trainer, _set_task\n",
    "\n",
    "%load_ext autoreload\n",
    "%autoreload 2"
   ]
  },
  {
   "cell_type": "code",
   "execution_count": null,
   "id": "c71826ea",
   "metadata": {},
   "outputs": [],
   "source": [
    "CINC2023Trainer.__DEBUG__ = False\n",
    "CRNN_CINC2023.__DEBUG__ = False\n",
    "CinC2023Dataset.__DEBUG__ = False"
   ]
  },
  {
   "cell_type": "code",
   "execution_count": null,
   "id": "2d1885f6",
   "metadata": {},
   "outputs": [],
   "source": []
  },
  {
   "cell_type": "code",
   "execution_count": null,
   "id": "92714d31",
   "metadata": {},
   "outputs": [],
   "source": [
    "DEVICE = torch.device(\"cuda\" if torch.cuda.is_available() else \"cpu\")\n",
    "if ModelCfg.torch_dtype == torch.float64:\n",
    "    torch.set_default_tensor_type(torch.DoubleTensor)\n",
    "    DTYPE = np.float64\n",
    "else:\n",
    "    DTYPE = np.float32"
   ]
  },
  {
   "cell_type": "code",
   "execution_count": null,
   "id": "e59b096f",
   "metadata": {},
   "outputs": [],
   "source": []
  },
  {
   "cell_type": "code",
   "execution_count": null,
   "id": "956b2347",
   "metadata": {},
   "outputs": [],
   "source": [
    "task = \"classification\"\n",
    "\n",
    "train_config = deepcopy(TrainCfg)\n",
    "# train_config.db_dir = data_folder\n",
    "# train_config.model_dir = model_folder\n",
    "# train_config.final_model_filename = _ModelFilename\n",
    "train_config.debug = True\n",
    "\n",
    "train_config.db_dir = \"/home/wenh06/Jupyter/wenhao/data/CinC2023/training/\"\n",
    "# train_config.db_dir = \"/home/wenh06/Jupyter/wenhao/data/CinC2023/training_subset/\"\n",
    "\n",
    "# train_config.n_epochs = 100\n",
    "# train_config.batch_size = 24  # 16G (Tesla T4)\n",
    "# train_config.log_step = 20\n",
    "# # train_config.max_lr = 1.5e-3\n",
    "# train_config.early_stopping.patience = 20\n",
    "\n",
    "train_config[task].model_name = \"crnn\"  # \"crnn\"\n",
    "\n",
    "train_config[\n",
    "    task\n",
    "].cnn_name = \"resnet_nature_comm_bottle_neck_se\"  # \"resnet_nature_comm_bottle_neck_se\"\n",
    "# train_config[task].rnn_name = \"none\"  # \"none\", \"lstm\"\n",
    "# train_config[task].attn_name = \"se\"  # \"none\", \"se\", \"gc\", \"nl\"\n",
    "\n",
    "_set_task(task, train_config)\n",
    "\n",
    "model_config = deepcopy(ModelCfg[task])\n",
    "\n",
    "# adjust model choices if needed\n",
    "model_config.model_name = train_config[task].model_name\n",
    "# print(model_name)\n",
    "if \"cnn\" in model_config[model_config.model_name]:\n",
    "    model_config[model_config.model_name].cnn.name = train_config[task].cnn_name\n",
    "if \"rnn\" in model_config[model_config.model_name]:\n",
    "    model_config[model_config.model_name].rnn.name = train_config[task].rnn_name\n",
    "if \"attn\" in model_config[model_config.model_name]:\n",
    "    model_config[model_config.model_name].attn.name = train_config[task].attn_name"
   ]
  },
  {
   "cell_type": "code",
   "execution_count": null,
   "id": "7be50449",
   "metadata": {},
   "outputs": [],
   "source": []
  },
  {
   "cell_type": "code",
   "execution_count": null,
   "id": "6a52942f",
   "metadata": {},
   "outputs": [],
   "source": [
    "model = CRNN_CINC2023(config=model_config)\n",
    "if torch.cuda.device_count() > 1:\n",
    "    model = DP(model)\n",
    "    # model = DDP(model)\n",
    "model = model.to(device=DEVICE)"
   ]
  },
  {
   "cell_type": "code",
   "execution_count": null,
   "id": "4f29c565",
   "metadata": {},
   "outputs": [],
   "source": [
    "model.module_size, model.module_size_"
   ]
  },
  {
   "cell_type": "code",
   "execution_count": null,
   "id": "95b48cca",
   "metadata": {},
   "outputs": [],
   "source": [
    "model"
   ]
  },
  {
   "cell_type": "code",
   "execution_count": null,
   "id": "821110c4",
   "metadata": {},
   "outputs": [],
   "source": []
  },
  {
   "cell_type": "code",
   "execution_count": null,
   "id": "73ccf37a",
   "metadata": {},
   "outputs": [],
   "source": [
    "ds_train = CinC2023Dataset(train_config, task, training=True, lazy=True)\n",
    "ds_test = CinC2023Dataset(train_config, task, training=False, lazy=True)"
   ]
  },
  {
   "cell_type": "code",
   "execution_count": null,
   "id": "bb9caaa6",
   "metadata": {},
   "outputs": [],
   "source": [
    "ds_test._load_all_data()"
   ]
  },
  {
   "cell_type": "code",
   "execution_count": null,
   "id": "6dfb2513",
   "metadata": {},
   "outputs": [],
   "source": [
    "ds_train._load_all_data()"
   ]
  },
  {
   "cell_type": "code",
   "execution_count": null,
   "id": "face7567",
   "metadata": {},
   "outputs": [],
   "source": [
    "ds_test.cache[\"waveforms\"].shape"
   ]
  },
  {
   "cell_type": "code",
   "execution_count": null,
   "id": "c3749f7e",
   "metadata": {},
   "outputs": [],
   "source": [
    "ds_train.cache[\"cpc\"]"
   ]
  },
  {
   "cell_type": "code",
   "execution_count": null,
   "id": "fae91668",
   "metadata": {},
   "outputs": [],
   "source": []
  },
  {
   "cell_type": "code",
   "execution_count": null,
   "id": "fd291217",
   "metadata": {},
   "outputs": [],
   "source": [
    "trainer = CINC2023Trainer(\n",
    "    model=model,\n",
    "    model_config=model_config,\n",
    "    train_config=train_config,\n",
    "    device=DEVICE,\n",
    "    lazy=True,\n",
    ")"
   ]
  },
  {
   "cell_type": "code",
   "execution_count": null,
   "id": "4e1dcdfa",
   "metadata": {},
   "outputs": [],
   "source": [
    "trainer._setup_dataloaders(ds_train, ds_test)"
   ]
  },
  {
   "cell_type": "code",
   "execution_count": null,
   "id": "8f1f59a9",
   "metadata": {},
   "outputs": [],
   "source": [
    "best_state_dict = trainer.train()"
   ]
  },
  {
   "cell_type": "code",
   "execution_count": null,
   "id": "83c930c2",
   "metadata": {},
   "outputs": [],
   "source": []
  },
  {
   "cell_type": "code",
   "execution_count": null,
   "id": "a0e3edb5",
   "metadata": {},
   "outputs": [],
   "source": []
  },
  {
   "cell_type": "code",
   "execution_count": null,
   "id": "b6a2bd05",
   "metadata": {},
   "outputs": [],
   "source": []
  },
  {
   "cell_type": "code",
   "execution_count": null,
   "id": "75f466e6",
   "metadata": {},
   "outputs": [],
   "source": []
  }
 ],
 "metadata": {
  "kernelspec": {
   "display_name": "Python 3 (ipykernel)",
   "language": "python",
   "name": "python3"
  },
  "language_info": {
   "codemirror_mode": {
    "name": "ipython",
    "version": 3
   },
   "file_extension": ".py",
   "mimetype": "text/x-python",
   "name": "python",
   "nbconvert_exporter": "python",
   "pygments_lexer": "ipython3",
   "version": "3.8.10"
  }
 },
 "nbformat": 4,
 "nbformat_minor": 5
}
