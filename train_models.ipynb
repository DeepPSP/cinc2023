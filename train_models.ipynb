{
 "cells": [
  {
   "cell_type": "code",
   "execution_count": null,
   "id": "2674ced4",
   "metadata": {},
   "outputs": [],
   "source": [
    "import pandas as pd\n",
    "\n",
    "# ^^^ pyforest auto-imports - don't write above this line\n",
    "sys.path.insert(0, \"/home/wenh06/Jupyter/wenhao/workspace/torch_ecg/\")\n",
    "sys.path.insert(0, \"/home/wenh06/Jupyter/wenhao/workspace/bib_lookup/\")\n",
    "\n",
    "import json\n",
    "import pickle\n",
    "from collections import Counter\n",
    "from copy import deepcopy\n",
    "\n",
    "import wfdb\n",
    "from tqdm.auto import tqdm\n",
    "\n",
    "from torch_ecg.utils import list_sum\n",
    "from scipy.io import loadmat\n",
    "from torch_ecg.components.outputs import (\n",
    "    ClassificationOutput,\n",
    ")\n",
    "from torch_ecg.utils.misc import dict_to_str\n",
    "from torch_ecg.cfg import CFG, DEFAULTS\n",
    "\n",
    "from utils.scoring_metrics import compute_challenge_metrics, compute_challenge_score\n",
    "from utils.features import get_features, get_labels\n",
    "from utils.misc import load_challenge_metadata\n",
    "from cfg import TrainCfg, ModelCfg, BaseCfg\n",
    "from data_reader import CINC2023Reader\n",
    "from dataset import CinC2023Dataset\n",
    "from outputs import CINC2023Outputs, cpc2outcome_map\n",
    "from models import CRNN_CINC2023\n",
    "from trainer import CINC2023Trainer, _set_task\n",
    "from helper_code import (\n",
    "    find_data_folders,\n",
    "    load_challenge_data,\n",
    ")\n",
    "\n",
    "%load_ext autoreload\n",
    "%autoreload 2"
   ]
  },
  {
   "cell_type": "code",
   "execution_count": null,
   "id": "5d71ef57",
   "metadata": {},
   "outputs": [],
   "source": []
  },
  {
   "cell_type": "markdown",
   "id": "58800f94",
   "metadata": {},
   "source": [
    "## DL model"
   ]
  },
  {
   "cell_type": "code",
   "execution_count": null,
   "id": "c71826ea",
   "metadata": {},
   "outputs": [],
   "source": [
    "CINC2023Trainer.__DEBUG__ = False\n",
    "CRNN_CINC2023.__DEBUG__ = False\n",
    "CinC2023Dataset.__DEBUG__ = False"
   ]
  },
  {
   "cell_type": "code",
   "execution_count": null,
   "id": "2d1885f6",
   "metadata": {},
   "outputs": [],
   "source": []
  },
  {
   "cell_type": "code",
   "execution_count": null,
   "id": "92714d31",
   "metadata": {},
   "outputs": [],
   "source": [
    "DEVICE = torch.device(\"cuda\" if torch.cuda.is_available() else \"cpu\")\n",
    "if ModelCfg.torch_dtype == torch.float64:\n",
    "    torch.set_default_tensor_type(torch.DoubleTensor)\n",
    "    DTYPE = np.float64\n",
    "else:\n",
    "    DTYPE = np.float32"
   ]
  },
  {
   "cell_type": "code",
   "execution_count": null,
   "id": "e59b096f",
   "metadata": {},
   "outputs": [],
   "source": []
  },
  {
   "cell_type": "code",
   "execution_count": null,
   "id": "956b2347",
   "metadata": {},
   "outputs": [],
   "source": [
    "TASK = \"classification\"\n",
    "\n",
    "train_config = deepcopy(TrainCfg)\n",
    "# train_config.db_dir = data_folder\n",
    "# train_config.model_dir = model_folder\n",
    "# train_config.final_model_filename = _ModelFilename\n",
    "train_config.debug = True\n",
    "\n",
    "train_config.db_dir = \"/home/wenh06/Jupyter/wenhao/data/CinC2023/training/\"\n",
    "# train_config.db_dir = \"/home/wenh06/Jupyter/wenhao/data/CinC2023/training_subset/\"\n",
    "\n",
    "# train_config.n_epochs = 100\n",
    "# train_config.batch_size = 24  # 16G (Tesla T4)\n",
    "# train_config.log_step = 20\n",
    "# # train_config.max_lr = 1.5e-3\n",
    "# train_config.early_stopping.patience = 20\n",
    "\n",
    "train_config[TASK].model_name = \"crnn\"  # \"crnn\"\n",
    "\n",
    "train_config[\n",
    "    TASK\n",
    "].cnn_name = \"resnet_nature_comm_bottle_neck_se\"  # \"resnet_nature_comm_bottle_neck_se\"\n",
    "# train_config[TASK].rnn_name = \"none\"  # \"none\", \"lstm\"\n",
    "# train_config[TASK].attn_name = \"se\"  # \"none\", \"se\", \"gc\", \"nl\"\n",
    "\n",
    "_set_task(TASK, train_config)\n",
    "\n",
    "model_config = deepcopy(ModelCfg[TASK])\n",
    "\n",
    "# adjust model choices if needed\n",
    "model_config.model_name = train_config[TASK].model_name\n",
    "# print(model_name)\n",
    "if \"cnn\" in model_config[model_config.model_name]:\n",
    "    model_config[model_config.model_name].cnn.name = train_config[TASK].cnn_name\n",
    "if \"rnn\" in model_config[model_config.model_name]:\n",
    "    model_config[model_config.model_name].rnn.name = train_config[TASK].rnn_name\n",
    "if \"attn\" in model_config[model_config.model_name]:\n",
    "    model_config[model_config.model_name].attn.name = train_config[TASK].attn_name"
   ]
  },
  {
   "cell_type": "code",
   "execution_count": null,
   "id": "7be50449",
   "metadata": {},
   "outputs": [],
   "source": []
  },
  {
   "cell_type": "code",
   "execution_count": null,
   "id": "6a52942f",
   "metadata": {},
   "outputs": [],
   "source": [
    "model = CRNN_CINC2023(config=model_config)\n",
    "if torch.cuda.device_count() > 1:\n",
    "    model = DP(model)\n",
    "    # model = DDP(model)\n",
    "model = model.to(device=DEVICE)"
   ]
  },
  {
   "cell_type": "code",
   "execution_count": null,
   "id": "4f29c565",
   "metadata": {},
   "outputs": [],
   "source": [
    "model.module_size, model.module_size_"
   ]
  },
  {
   "cell_type": "code",
   "execution_count": null,
   "id": "95b48cca",
   "metadata": {},
   "outputs": [],
   "source": [
    "model"
   ]
  },
  {
   "cell_type": "code",
   "execution_count": null,
   "id": "821110c4",
   "metadata": {},
   "outputs": [],
   "source": []
  },
  {
   "cell_type": "code",
   "execution_count": null,
   "id": "73ccf37a",
   "metadata": {},
   "outputs": [],
   "source": [
    "ds_train = CinC2023Dataset(train_config, TASK, training=True, lazy=True)\n",
    "ds_test = CinC2023Dataset(train_config, TASK, training=False, lazy=True)"
   ]
  },
  {
   "cell_type": "code",
   "execution_count": null,
   "id": "bb9caaa6",
   "metadata": {},
   "outputs": [],
   "source": [
    "ds_test._load_all_data()"
   ]
  },
  {
   "cell_type": "code",
   "execution_count": null,
   "id": "6dfb2513",
   "metadata": {},
   "outputs": [],
   "source": [
    "ds_train._load_all_data()"
   ]
  },
  {
   "cell_type": "code",
   "execution_count": null,
   "id": "face7567",
   "metadata": {},
   "outputs": [],
   "source": [
    "ds_test.cache[\"waveforms\"].shape"
   ]
  },
  {
   "cell_type": "code",
   "execution_count": null,
   "id": "c3749f7e",
   "metadata": {},
   "outputs": [],
   "source": [
    "ds_train.cache[\"cpc\"]"
   ]
  },
  {
   "cell_type": "code",
   "execution_count": null,
   "id": "fae91668",
   "metadata": {},
   "outputs": [],
   "source": []
  },
  {
   "cell_type": "code",
   "execution_count": null,
   "id": "fd291217",
   "metadata": {},
   "outputs": [],
   "source": [
    "trainer = CINC2023Trainer(\n",
    "    model=model,\n",
    "    model_config=model_config,\n",
    "    train_config=train_config,\n",
    "    device=DEVICE,\n",
    "    lazy=True,\n",
    ")"
   ]
  },
  {
   "cell_type": "code",
   "execution_count": null,
   "id": "4e1dcdfa",
   "metadata": {},
   "outputs": [],
   "source": [
    "trainer._setup_dataloaders(ds_train, ds_test)"
   ]
  },
  {
   "cell_type": "code",
   "execution_count": null,
   "id": "8f1f59a9",
   "metadata": {},
   "outputs": [],
   "source": [
    "best_state_dict = trainer.train()"
   ]
  },
  {
   "cell_type": "code",
   "execution_count": null,
   "id": "83c930c2",
   "metadata": {},
   "outputs": [],
   "source": []
  },
  {
   "cell_type": "code",
   "execution_count": null,
   "id": "85bf5f21",
   "metadata": {},
   "outputs": [],
   "source": []
  },
  {
   "cell_type": "markdown",
   "id": "12548c1e",
   "metadata": {},
   "source": [
    "## ML model"
   ]
  },
  {
   "cell_type": "code",
   "execution_count": null,
   "id": "eacc9440",
   "metadata": {},
   "outputs": [],
   "source": [
    "verbose = 2\n",
    "data_folder = \"/home/wenh06/Jupyter/wenhao/data/CinC2023/training/\""
   ]
  },
  {
   "cell_type": "code",
   "execution_count": null,
   "id": "7988ec6d",
   "metadata": {},
   "outputs": [],
   "source": [
    "patient_ids = find_data_folders(data_folder)\n",
    "num_patients = len(patient_ids)\n",
    "\n",
    "if num_patients == 0:\n",
    "    raise FileNotFoundError(\"No data was provided.\")\n",
    "else:\n",
    "    if verbose >= 1:\n",
    "        print(f\"Found {num_patients} patients.\")"
   ]
  },
  {
   "cell_type": "code",
   "execution_count": null,
   "id": "a0e3edb5",
   "metadata": {},
   "outputs": [],
   "source": [
    "if verbose >= 1:\n",
    "    print(\"Extracting features and labels from the Challenge data...\")\n",
    "\n",
    "features = list()\n",
    "outcomes = list()\n",
    "cpcs = list()\n",
    "\n",
    "for i in tqdm(\n",
    "    range(num_patients),\n",
    "    desc=\"Extracting features and labels\",\n",
    "    total=num_patients,\n",
    "    dynamic_ncols=True,\n",
    "    mininterval=1.0,\n",
    "    disable=verbose < 2,\n",
    "):\n",
    "    # Load data.\n",
    "    patient_id = patient_ids[i]\n",
    "    patient_metadata = load_challenge_metadata(data_folder, patient_id)\n",
    "\n",
    "    # Extract features.\n",
    "    current_features = get_features(patient_metadata)\n",
    "    features.append(current_features)\n",
    "\n",
    "    # Extract labels.\n",
    "    current_labels = get_labels(patient_metadata)\n",
    "    outcomes.append(current_labels[\"outcome\"])\n",
    "    cpcs.append(current_labels[\"cpc\"])\n",
    "\n",
    "features = np.vstack(features)\n",
    "outcomes = np.vstack(outcomes)\n",
    "cpcs = np.vstack(cpcs)"
   ]
  },
  {
   "cell_type": "code",
   "execution_count": null,
   "id": "6005eba7",
   "metadata": {},
   "outputs": [],
   "source": [
    "# Define parameters for random forest classifier and regressor.\n",
    "n_estimators = 42  # Number of trees in the forest.\n",
    "max_leaf_nodes = 456  # Maximum number of leaf nodes in each tree.\n",
    "random_state = 789  # Random state; set for reproducibility.\n",
    "\n",
    "# Impute any missing features; use the mean value by default.\n",
    "imputer = SimpleImputer().fit(features)\n",
    "\n",
    "# Train the models.\n",
    "features = imputer.transform(features)\n",
    "outcome_model = RandomForestClassifier(\n",
    "    n_estimators=n_estimators,\n",
    "    max_leaf_nodes=max_leaf_nodes,\n",
    "    random_state=random_state,\n",
    ").fit(features, outcomes.ravel())\n",
    "cpc_model = RandomForestRegressor(\n",
    "    n_estimators=n_estimators,\n",
    "    max_leaf_nodes=max_leaf_nodes,\n",
    "    random_state=random_state,\n",
    ").fit(features, cpcs.ravel())\n",
    "\n",
    "d = {\"imputer\": imputer, \"outcome_model\": outcome_model, \"cpc_model\": cpc_model}"
   ]
  },
  {
   "cell_type": "code",
   "execution_count": null,
   "id": "75f466e6",
   "metadata": {},
   "outputs": [],
   "source": [
    "# with open(\"./tmp/final_model_ml.pkl\", \"wb\") as f:\n",
    "#     pickle.dump(d, f)"
   ]
  },
  {
   "cell_type": "code",
   "execution_count": null,
   "id": "377d065c",
   "metadata": {},
   "outputs": [],
   "source": []
  },
  {
   "cell_type": "code",
   "execution_count": null,
   "id": "2db2a019",
   "metadata": {},
   "outputs": [],
   "source": []
  }
 ],
 "metadata": {
  "kernelspec": {
   "display_name": "Python 3 (ipykernel)",
   "language": "python",
   "name": "python3"
  },
  "language_info": {
   "codemirror_mode": {
    "name": "ipython",
    "version": 3
   },
   "file_extension": ".py",
   "mimetype": "text/x-python",
   "name": "python",
   "nbconvert_exporter": "python",
   "pygments_lexer": "ipython3",
   "version": "3.8.10"
  }
 },
 "nbformat": 4,
 "nbformat_minor": 5
}
