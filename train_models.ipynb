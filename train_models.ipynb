{
 "cells": [
  {
   "cell_type": "code",
   "execution_count": null,
   "id": "3f9df9da",
   "metadata": {},
   "outputs": [],
   "source": [
    "import pandas as pd\n",
    "import torch\n",
    "\n",
    "# ^^^ pyforest auto-imports - don't write above this line\n",
    "import os\n",
    "\n",
    "os.environ[\"CUDA_DEVICE_ORDER\"] = \"PCI_BUS_ID\"\n",
    "os.environ[\"CUDA_VISIBLE_DEVICES\"] = \"2,3,4,5,6,7\""
   ]
  },
  {
   "cell_type": "code",
   "execution_count": null,
   "id": "f00923b4",
   "metadata": {},
   "outputs": [],
   "source": [
    "torch.cuda.device_count()"
   ]
  },
  {
   "cell_type": "code",
   "execution_count": null,
   "id": "2674ced4",
   "metadata": {},
   "outputs": [],
   "source": [
    "import sys\n",
    "\n",
    "# ^^^ pyforest auto-imports - don't write above this line\n",
    "sys.path.insert(0, \"/home/wenhao/Jupyter/wenhao/workspace/torch_ecg/\")\n",
    "sys.path.insert(0, \"/home/wenhao/Jupyter/wenhao/workspace/bib_lookup/\")\n",
    "\n",
    "import os\n",
    "import pickle\n",
    "import time\n",
    "from copy import deepcopy\n",
    "from pathlib import Path\n",
    "from typing import Dict, Union, Tuple, Sequence\n",
    "\n",
    "import numpy as np\n",
    "import torch\n",
    "from sklearn.base import BaseEstimator\n",
    "from sklearn.ensemble import RandomForestClassifier, RandomForestRegressor\n",
    "from sklearn.impute import SimpleImputer\n",
    "from torch.nn.parallel import (  # noqa: F401\n",
    "    DistributedDataParallel as DDP,\n",
    "    DataParallel as DP,\n",
    ")  # noqa: F401\n",
    "from torch_ecg.cfg import CFG\n",
    "from torch_ecg.utils.misc import str2bool\n",
    "from torch_ecg._preprocessors import PreprocManager\n",
    "from tqdm.auto import tqdm\n",
    "\n",
    "from cfg import TrainCfg, ModelCfg, MLCfg\n",
    "from dataset import CinC2023Dataset\n",
    "from models import CRNN_CINC2023, ML_Classifier_CINC2023\n",
    "from trainer import CINC2023Trainer, _set_task\n",
    "from helper_code import find_data_folders\n",
    "from utils.features import get_features, get_labels\n",
    "from utils.misc import (\n",
    "    load_challenge_metadata,\n",
    "    load_challenge_eeg_data,\n",
    "    find_eeg_recording_files,\n",
    ")\n",
    "from utils.sqi import compute_sqi  # noqa: F401\n",
    "\n",
    "%load_ext autoreload\n",
    "%autoreload 2"
   ]
  },
  {
   "cell_type": "code",
   "execution_count": null,
   "id": "5d71ef57",
   "metadata": {},
   "outputs": [],
   "source": []
  },
  {
   "cell_type": "markdown",
   "id": "58800f94",
   "metadata": {},
   "source": [
    "## DL model"
   ]
  },
  {
   "cell_type": "code",
   "execution_count": null,
   "id": "c71826ea",
   "metadata": {},
   "outputs": [],
   "source": [
    "TEST_FLAG = False\n",
    "\n",
    "TASK = \"classification\"  # \"classification\", \"regression\"\n",
    "\n",
    "# choices of the models\n",
    "TrainCfg[TASK].model_name = \"crnn\"\n",
    "\n",
    "# \"tresnetS\"  # \"resnet_nature_comm\", \"tresnetF\", etc.\n",
    "TrainCfg[TASK].cnn_name = \"resnet_nature_comm_bottle_neck_se\"\n",
    "\n",
    "# TrainCfg[TASK].rnn_name = \"none\"  # \"none\", \"lstm\"\n",
    "# TrainCfg[TASK].attn_name = \"se\"  # \"none\", \"se\", \"gc\", \"nl\"\n",
    "\n",
    "ENHANCED_ML_MODEL = True\n",
    "\n",
    "_ModelFilename = \"final_model_main.pth.tar\"\n",
    "_ModelFilename_ml = \"final_model_ml.pkl\"\n",
    "_ModelFilename_ml_min_guarantee = \"final_model_ml_min_guarantee.pkl\"\n",
    "\n",
    "DEVICE = torch.device(\"cuda\" if torch.cuda.is_available() else \"cpu\")\n",
    "if ModelCfg.torch_dtype == torch.float64:\n",
    "    torch.set_default_tensor_type(torch.DoubleTensor)\n",
    "    DTYPE = np.float64\n",
    "else:\n",
    "    DTYPE = np.float32\n",
    "\n",
    "CinC2023Dataset.__DEBUG__ = False\n",
    "CRNN_CINC2023.__DEBUG__ = False\n",
    "CINC2023Trainer.__DEBUG__ = False\n",
    "\n",
    "EEG_BIPOLAR_CHANNELS = [\n",
    "    [pair.split(\"-\")[0] for pair in TrainCfg.eeg_bipolar_channels],\n",
    "    [pair.split(\"-\")[1] for pair in TrainCfg.eeg_bipolar_channels],\n",
    "]"
   ]
  },
  {
   "cell_type": "code",
   "execution_count": null,
   "id": "2d1885f6",
   "metadata": {},
   "outputs": [],
   "source": []
  },
  {
   "cell_type": "code",
   "execution_count": null,
   "id": "92714d31",
   "metadata": {},
   "outputs": [],
   "source": [
    "DEVICE = torch.device(\"cuda\" if torch.cuda.is_available() else \"cpu\")\n",
    "if ModelCfg.torch_dtype == torch.float64:\n",
    "    torch.set_default_tensor_type(torch.DoubleTensor)\n",
    "    DTYPE = np.float64\n",
    "else:\n",
    "    DTYPE = np.float32"
   ]
  },
  {
   "cell_type": "code",
   "execution_count": null,
   "id": "e59b096f",
   "metadata": {},
   "outputs": [],
   "source": []
  },
  {
   "cell_type": "code",
   "execution_count": null,
   "id": "956b2347",
   "metadata": {},
   "outputs": [],
   "source": [
    "TASK = \"classification\"\n",
    "\n",
    "train_config = deepcopy(TrainCfg)\n",
    "# train_config.db_dir = data_folder\n",
    "# train_config.model_dir = model_folder\n",
    "# train_config.final_model_filename = _ModelFilename\n",
    "train_config.debug = True\n",
    "\n",
    "train_config.db_dir = \"/data1/Jupyter-Data/CinC2023-new/\"\n",
    "\n",
    "train_config.n_epochs = 65\n",
    "train_config.batch_size = 36  # 16G (Tesla T4)\n",
    "train_config.reload_data_every = 5\n",
    "# train_config.log_step = 20\n",
    "# # train_config.max_lr = 1.5e-3\n",
    "train_config.early_stopping.patience = int(train_config.n_epochs * 0.55)\n",
    "\n",
    "# augmentations configurations\n",
    "# train_config.classification.label_smooth = False\n",
    "# train_config.classification.random_masking = False\n",
    "# train_config.classification.stretch_compress = False  # stretch or compress in time axis\n",
    "# train_config.classification.mixup = CFG(\n",
    "#     prob=0.6,\n",
    "#     alpha=0.3,\n",
    "# )\n",
    "\n",
    "# train_config[TASK].pop(\"normalize\")\n",
    "\n",
    "train_config[TASK].model_name = \"crnn\"  # \"crnn\"\n",
    "\n",
    "train_config[\n",
    "    TASK\n",
    "].cnn_name = \"resnet_nature_comm_bottle_neck_se\"  # \"resnet_nature_comm_bottle_neck_se\"\n",
    "# train_config[TASK].rnn_name = \"none\"  # \"none\", \"lstm\"\n",
    "# train_config[TASK].attn_name = \"se\"  # \"none\", \"se\", \"gc\", \"nl\"\n",
    "\n",
    "_set_task(TASK, train_config)\n",
    "\n",
    "model_config = deepcopy(ModelCfg[TASK])\n",
    "\n",
    "# adjust model choices if needed\n",
    "model_config.model_name = train_config[TASK].model_name\n",
    "# print(model_name)\n",
    "if \"cnn\" in model_config[model_config.model_name]:\n",
    "    model_config[model_config.model_name].cnn.name = train_config[TASK].cnn_name\n",
    "if \"rnn\" in model_config[model_config.model_name]:\n",
    "    model_config[model_config.model_name].rnn.name = train_config[TASK].rnn_name\n",
    "if \"attn\" in model_config[model_config.model_name]:\n",
    "    model_config[model_config.model_name].attn.name = train_config[TASK].attn_name"
   ]
  },
  {
   "cell_type": "code",
   "execution_count": null,
   "id": "7be50449",
   "metadata": {},
   "outputs": [],
   "source": []
  },
  {
   "cell_type": "code",
   "execution_count": null,
   "id": "6a52942f",
   "metadata": {},
   "outputs": [],
   "source": [
    "model = CRNN_CINC2023(config=model_config)\n",
    "if torch.cuda.device_count() > 1:\n",
    "    model = DP(model)\n",
    "    # model = DDP(model)\n",
    "model = model.to(device=DEVICE)"
   ]
  },
  {
   "cell_type": "code",
   "execution_count": null,
   "id": "3c363603",
   "metadata": {},
   "outputs": [],
   "source": [
    "if isinstance(model, DP):\n",
    "    print(model.module.module_size, model.module.module_size_)\n",
    "else:\n",
    "    print(model.module_size, model.module_size_)"
   ]
  },
  {
   "cell_type": "code",
   "execution_count": null,
   "id": "95b48cca",
   "metadata": {},
   "outputs": [],
   "source": [
    "model"
   ]
  },
  {
   "cell_type": "code",
   "execution_count": null,
   "id": "821110c4",
   "metadata": {},
   "outputs": [],
   "source": []
  },
  {
   "cell_type": "code",
   "execution_count": null,
   "id": "73ccf37a",
   "metadata": {},
   "outputs": [],
   "source": [
    "ds_train = CinC2023Dataset(train_config, TASK, training=True, lazy=True)\n",
    "ds_test = CinC2023Dataset(train_config, TASK, training=False, lazy=True)"
   ]
  },
  {
   "cell_type": "code",
   "execution_count": null,
   "id": "bb9caaa6",
   "metadata": {},
   "outputs": [],
   "source": [
    "ds_test._load_all_data()"
   ]
  },
  {
   "cell_type": "code",
   "execution_count": null,
   "id": "6dfb2513",
   "metadata": {},
   "outputs": [],
   "source": [
    "ds_train._load_all_data()"
   ]
  },
  {
   "cell_type": "code",
   "execution_count": null,
   "id": "face7567",
   "metadata": {},
   "outputs": [],
   "source": [
    "# ds_test.cache[\"waveforms\"].shape"
   ]
  },
  {
   "cell_type": "code",
   "execution_count": null,
   "id": "c3749f7e",
   "metadata": {},
   "outputs": [],
   "source": [
    "# ds_train.cache[\"cpc\"]"
   ]
  },
  {
   "cell_type": "code",
   "execution_count": null,
   "id": "068440e2",
   "metadata": {},
   "outputs": [],
   "source": [
    "len(ds_test.reader)"
   ]
  },
  {
   "cell_type": "code",
   "execution_count": null,
   "id": "fae91668",
   "metadata": {},
   "outputs": [],
   "source": []
  },
  {
   "cell_type": "code",
   "execution_count": null,
   "id": "fd291217",
   "metadata": {},
   "outputs": [],
   "source": [
    "trainer = CINC2023Trainer(\n",
    "    model=model,\n",
    "    model_config=model_config,\n",
    "    train_config=train_config,\n",
    "    device=DEVICE,\n",
    "    lazy=True,\n",
    ")"
   ]
  },
  {
   "cell_type": "code",
   "execution_count": null,
   "id": "4e1dcdfa",
   "metadata": {},
   "outputs": [],
   "source": [
    "trainer._setup_dataloaders(ds_train, ds_test)"
   ]
  },
  {
   "cell_type": "code",
   "execution_count": null,
   "id": "8f1f59a9",
   "metadata": {
    "scrolled": true
   },
   "outputs": [],
   "source": [
    "best_state_dict = trainer.train()"
   ]
  },
  {
   "cell_type": "code",
   "execution_count": null,
   "id": "83c930c2",
   "metadata": {},
   "outputs": [],
   "source": []
  },
  {
   "cell_type": "code",
   "execution_count": null,
   "id": "35c088f4",
   "metadata": {},
   "outputs": [],
   "source": []
  },
  {
   "cell_type": "code",
   "execution_count": null,
   "id": "4a63bada",
   "metadata": {},
   "outputs": [],
   "source": []
  },
  {
   "cell_type": "code",
   "execution_count": null,
   "id": "85bf5f21",
   "metadata": {},
   "outputs": [],
   "source": []
  },
  {
   "cell_type": "markdown",
   "id": "12548c1e",
   "metadata": {},
   "source": [
    "## ML model"
   ]
  },
  {
   "cell_type": "code",
   "execution_count": null,
   "id": "eacc9440",
   "metadata": {},
   "outputs": [],
   "source": [
    "verbose = 2\n",
    "data_folder = \"/home/wenh06/Jupyter/wenhao/data/CinC2023/training/\""
   ]
  },
  {
   "cell_type": "code",
   "execution_count": null,
   "id": "7988ec6d",
   "metadata": {},
   "outputs": [],
   "source": [
    "patient_ids = find_data_folders(data_folder)\n",
    "num_patients = len(patient_ids)\n",
    "\n",
    "if num_patients == 0:\n",
    "    raise FileNotFoundError(\"No data was provided.\")\n",
    "else:\n",
    "    if verbose >= 1:\n",
    "        print(f\"Found {num_patients} patients.\")"
   ]
  },
  {
   "cell_type": "code",
   "execution_count": null,
   "id": "a0e3edb5",
   "metadata": {},
   "outputs": [],
   "source": [
    "if verbose >= 1:\n",
    "    print(\"Extracting features and labels from the Challenge data...\")\n",
    "\n",
    "features = list()\n",
    "outcomes = list()\n",
    "cpcs = list()\n",
    "\n",
    "for i in tqdm(\n",
    "    range(num_patients),\n",
    "    desc=\"Extracting features and labels\",\n",
    "    total=num_patients,\n",
    "    dynamic_ncols=True,\n",
    "    mininterval=1.0,\n",
    "    disable=verbose < 2,\n",
    "):\n",
    "    # Load data.\n",
    "    patient_id = patient_ids[i]\n",
    "    patient_metadata = load_challenge_metadata(data_folder, patient_id)\n",
    "\n",
    "    # Extract features.\n",
    "    current_features = get_features(patient_metadata)\n",
    "    features.append(current_features)\n",
    "\n",
    "    # Extract labels.\n",
    "    current_labels = get_labels(patient_metadata)\n",
    "    outcomes.append(current_labels[\"outcome\"])\n",
    "    cpcs.append(current_labels[\"cpc\"])\n",
    "\n",
    "features = np.vstack(features)\n",
    "outcomes = np.vstack(outcomes)\n",
    "cpcs = np.vstack(cpcs)"
   ]
  },
  {
   "cell_type": "code",
   "execution_count": null,
   "id": "6005eba7",
   "metadata": {},
   "outputs": [],
   "source": [
    "# Define parameters for random forest classifier and regressor.\n",
    "n_estimators = 42  # Number of trees in the forest.\n",
    "max_leaf_nodes = 456  # Maximum number of leaf nodes in each tree.\n",
    "random_state = 789  # Random state; set for reproducibility.\n",
    "\n",
    "# Impute any missing features; use the mean value by default.\n",
    "imputer = SimpleImputer().fit(features)\n",
    "\n",
    "# Train the models.\n",
    "features = imputer.transform(features)\n",
    "outcome_model = RandomForestClassifier(\n",
    "    n_estimators=n_estimators,\n",
    "    max_leaf_nodes=max_leaf_nodes,\n",
    "    random_state=random_state,\n",
    ").fit(features, outcomes.ravel())\n",
    "cpc_model = RandomForestRegressor(\n",
    "    n_estimators=n_estimators,\n",
    "    max_leaf_nodes=max_leaf_nodes,\n",
    "    random_state=random_state,\n",
    ").fit(features, cpcs.ravel())\n",
    "\n",
    "d = {\"imputer\": imputer, \"outcome_model\": outcome_model, \"cpc_model\": cpc_model}"
   ]
  },
  {
   "cell_type": "code",
   "execution_count": null,
   "id": "75f466e6",
   "metadata": {},
   "outputs": [],
   "source": [
    "# with open(\"./tmp/final_model_ml.pkl\", \"wb\") as f:\n",
    "#     pickle.dump(d, f)"
   ]
  },
  {
   "cell_type": "code",
   "execution_count": null,
   "id": "377d065c",
   "metadata": {},
   "outputs": [],
   "source": []
  },
  {
   "cell_type": "code",
   "execution_count": null,
   "id": "2db2a019",
   "metadata": {},
   "outputs": [],
   "source": []
  }
 ],
 "metadata": {
  "kernelspec": {
   "display_name": "Python 3",
   "language": "python",
   "name": "python3"
  },
  "language_info": {
   "codemirror_mode": {
    "name": "ipython",
    "version": 3
   },
   "file_extension": ".py",
   "mimetype": "text/x-python",
   "name": "python",
   "nbconvert_exporter": "python",
   "pygments_lexer": "ipython3",
   "version": "3.6.9"
  }
 },
 "nbformat": 4,
 "nbformat_minor": 5
}
